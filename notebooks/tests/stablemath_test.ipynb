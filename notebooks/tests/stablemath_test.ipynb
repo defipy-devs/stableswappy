{
 "cells": [
  {
   "cell_type": "markdown",
   "id": "f4495f28-e9db-4c07-959b-1bc648ad21af",
   "metadata": {},
   "source": [
    "## Stableswap pool-math"
   ]
  },
  {
   "cell_type": "code",
   "execution_count": 1,
   "id": "d44a9b33-52fc-48cd-bba5-0564ccf24e40",
   "metadata": {},
   "outputs": [],
   "source": [
    "import os\n",
    "import json\n",
    "import numpy as np\n",
    "import os\n",
    "from decimal import Decimal\n",
    "os.chdir(os.getcwd().replace(\"notebooks/tests\",\"\"))\n",
    "\n",
    "from python.prod.cst.exchg import StableswapPoolMath"
   ]
  },
  {
   "cell_type": "code",
   "execution_count": 2,
   "id": "7ea36639-289f-4cf3-9e12-1aff7e273f4c",
   "metadata": {},
   "outputs": [],
   "source": [
    "def tkn2dec(tkn_amt, decimals):\n",
    "    return int(Decimal(str(tkn_amt))*Decimal(str(10**decimals)))\n",
    "\n",
    "def rate_multiplier(decimals):\n",
    "    return 10 ** (36 - decimals)\n",
    "\n",
    "def format_balances(balances, decimals):\n",
    "    return [f\"{b//10**d:,}\" for b, d in zip(balances, decimals)]"
   ]
  },
  {
   "cell_type": "code",
   "execution_count": 3,
   "id": "c6c551b4-b8da-4f4b-aa13-54c2b9e905fd",
   "metadata": {},
   "outputs": [],
   "source": [
    "GWEI  = 10**18\n",
    "\n",
    "DECIMALS_DAI = 18\n",
    "DECIMALS_USDC = 6\n",
    "DECIMALS_USDT = 6\n",
    "DECIMALS = [DECIMALS_DAI, DECIMALS_USDC, DECIMALS_USDT]"
   ]
  },
  {
   "cell_type": "code",
   "execution_count": 4,
   "id": "deb450d3-4ff9-4776-8b15-8c370e2b186f",
   "metadata": {},
   "outputs": [],
   "source": [
    "amt_dai = 79566307.559825807715868071\n",
    "amt_usdc = 81345068.187939\n",
    "amt_usdt = 55663250.772939"
   ]
  },
  {
   "cell_type": "code",
   "execution_count": 5,
   "id": "178bd263-16e0-4bdf-80e8-ec0c7599ec08",
   "metadata": {},
   "outputs": [],
   "source": [
    "decimal_amts = [tkn2dec(amt_dai, DECIMALS_DAI),\n",
    "           tkn2dec(amt_usdc, DECIMALS_USDC),\n",
    "           tkn2dec(amt_usdt, DECIMALS_USDT)]\n",
    "\n",
    "rates = [rate_multiplier(DECIMALS_DAI), \n",
    "         rate_multiplier(DECIMALS_USDC), \n",
    "         rate_multiplier(DECIMALS_USDT)]\n",
    "\n",
    "test_pool = StableswapPoolMath(A = 2000, \n",
    "                           D = decimal_amts, \n",
    "                           n = len(rates),\n",
    "                           rates = rates, \n",
    "                           fee = 1000000)"
   ]
  },
  {
   "cell_type": "code",
   "execution_count": 6,
   "id": "48bb3856-c552-4656-8209-1696791cf023",
   "metadata": {},
   "outputs": [
    {
     "data": {
      "text/plain": [
       "['79,566,307', '81,345,068', '55,663,250']"
      ]
     },
     "execution_count": 6,
     "metadata": {},
     "output_type": "execute_result"
    }
   ],
   "source": [
    "format_balances(test_pool.balances, DECIMALS)"
   ]
  },
  {
   "cell_type": "markdown",
   "id": "c9cdc98c-af6d-429b-b66f-0e251c419a3c",
   "metadata": {},
   "source": [
    "#### Swap USDC for Tether"
   ]
  },
  {
   "cell_type": "code",
   "execution_count": 7,
   "id": "661225e1-671f-483b-b73e-f455ac926847",
   "metadata": {},
   "outputs": [
    {
     "name": "stdout",
     "output_type": "stream",
     "text": [
      "['79,566,307', '81,355,068', '55,653,253']\n"
     ]
    },
    {
     "data": {
      "text/plain": [
       "(9996.862748, 0.999786)"
      ]
     },
     "execution_count": 7,
     "metadata": {},
     "output_type": "execute_result"
    }
   ],
   "source": [
    "i = 1  # USDC (coming in)\n",
    "j = 2  # Tether (going out)\n",
    "dx = 10**4 * 10**DECIMALS_USDC\n",
    "\n",
    "dy, fee = test_pool.exchange(i, j, dx)\n",
    "\n",
    "print(format_balances(test_pool.balances, DECIMALS))\n",
    "\n",
    "dy/10**DECIMALS_USDT, fee/10**DECIMALS_USDT"
   ]
  },
  {
   "cell_type": "markdown",
   "id": "3d227e10-9a4e-445c-9a7a-96cf28598132",
   "metadata": {},
   "source": [
    "#### Swap DAI for Tether"
   ]
  },
  {
   "cell_type": "code",
   "execution_count": 8,
   "id": "16477fa1-8d2d-4357-bec1-8e9373f85c07",
   "metadata": {},
   "outputs": [
    {
     "name": "stdout",
     "output_type": "stream",
     "text": [
      "['79,576,307', '81,355,068', '55,643,256']\n"
     ]
    },
    {
     "data": {
      "text/plain": [
       "(9996.964923, 0.999796)"
      ]
     },
     "execution_count": 8,
     "metadata": {},
     "output_type": "execute_result"
    }
   ],
   "source": [
    "i = 0  # DAI\n",
    "j = 2  # Tether\n",
    "dx = 10**4 * 10**DECIMALS_DAI\n",
    "\n",
    "dy, fee = test_pool.exchange(i, j, dx)\n",
    "\n",
    "print(format_balances(test_pool.balances, DECIMALS))\n",
    "\n",
    "dy/10**DECIMALS_USDT, fee/10**DECIMALS_USDT"
   ]
  },
  {
   "cell_type": "markdown",
   "id": "7ec1eae5-4fd4-48ec-9915-2d8595928b6a",
   "metadata": {},
   "source": [
    "#### Swap USDC for DAI"
   ]
  },
  {
   "cell_type": "code",
   "execution_count": 9,
   "id": "3d4b06f9-2421-4535-8cbe-9d54d2db65c7",
   "metadata": {},
   "outputs": [
    {
     "name": "stdout",
     "output_type": "stream",
     "text": [
      "['79,566,308', '81,365,068', '55,643,256']\n"
     ]
    },
    {
     "data": {
      "text/plain": [
       "(9998.895898397388, 0.9999895887986187)"
      ]
     },
     "execution_count": 9,
     "metadata": {},
     "output_type": "execute_result"
    }
   ],
   "source": [
    "i = 1  # USDC\n",
    "j = 0  # DAI\n",
    "dx = 10**4 * 10**DECIMALS_USDC\n",
    "\n",
    "dy, fee = test_pool.exchange(i, j, dx)\n",
    "\n",
    "print(format_balances(test_pool.balances, DECIMALS))\n",
    "\n",
    "dy/10**DECIMALS_DAI, fee/10**DECIMALS_DAI"
   ]
  }
 ],
 "metadata": {
  "kernelspec": {
   "display_name": "Python 3 (ipykernel)",
   "language": "python",
   "name": "python3"
  },
  "language_info": {
   "codemirror_mode": {
    "name": "ipython",
    "version": 3
   },
   "file_extension": ".py",
   "mimetype": "text/x-python",
   "name": "python",
   "nbconvert_exporter": "python",
   "pygments_lexer": "ipython3",
   "version": "3.9.7"
  }
 },
 "nbformat": 4,
 "nbformat_minor": 5
}
