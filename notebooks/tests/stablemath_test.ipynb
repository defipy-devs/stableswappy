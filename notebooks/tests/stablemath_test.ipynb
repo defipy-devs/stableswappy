{
 "cells": [
  {
   "cell_type": "markdown",
   "id": "f4495f28-e9db-4c07-959b-1bc648ad21af",
   "metadata": {},
   "source": [
    "## Stableswap pool-math"
   ]
  },
  {
   "cell_type": "code",
   "execution_count": 1,
   "id": "d44a9b33-52fc-48cd-bba5-0564ccf24e40",
   "metadata": {},
   "outputs": [],
   "source": [
    "import json\n",
    "import numpy as np\n",
    "from decimal import Decimal\n",
    "\n",
    "from stableswappy.cst.exchg import StableswapPoolMath"
   ]
  },
  {
   "cell_type": "code",
   "execution_count": 2,
   "id": "7ea36639-289f-4cf3-9e12-1aff7e273f4c",
   "metadata": {},
   "outputs": [],
   "source": [
    "def tkn2dec(tkn_amt, decimals):\n",
    "    return int(Decimal(str(tkn_amt))*Decimal(str(10**decimals)))\n",
    "\n",
    "def rate_multiplier(decimals):\n",
    "    return 10 ** (36 - decimals)\n",
    "\n",
    "def format_balances(balances, decimals):\n",
    "    return [f\"{b//10**d:,}\" for b, d in zip(balances, decimals)]"
   ]
  },
  {
   "cell_type": "code",
   "execution_count": 3,
   "id": "c6c551b4-b8da-4f4b-aa13-54c2b9e905fd",
   "metadata": {},
   "outputs": [],
   "source": [
    "GWEI  = 10**18\n",
    "\n",
    "DECIMALS_GWEI = 18\n",
    "DECIMALS_DAI = 18\n",
    "DECIMALS_USDC = 6\n",
    "DECIMALS_USDT = 6\n",
    "DECIMALS = [DECIMALS_DAI, DECIMALS_USDC, DECIMALS_USDT]"
   ]
  },
  {
   "cell_type": "code",
   "execution_count": 4,
   "id": "deb450d3-4ff9-4776-8b15-8c370e2b186f",
   "metadata": {},
   "outputs": [],
   "source": [
    "amt_dai = 79566307.559825807715868071\n",
    "amt_usdc = 81345068.187939\n",
    "amt_usdt = 55663250.772939"
   ]
  },
  {
   "cell_type": "code",
   "execution_count": 5,
   "id": "178bd263-16e0-4bdf-80e8-ec0c7599ec08",
   "metadata": {},
   "outputs": [
    {
     "data": {
      "text/plain": [
       "['79,566,307', '81,345,068', '55,663,250']"
      ]
     },
     "execution_count": 5,
     "metadata": {},
     "output_type": "execute_result"
    }
   ],
   "source": [
    "decimal_amts = [tkn2dec(amt_dai, DECIMALS_DAI),\n",
    "           tkn2dec(amt_usdc, DECIMALS_USDC),\n",
    "           tkn2dec(amt_usdt, DECIMALS_USDT)]\n",
    "\n",
    "rates = [rate_multiplier(DECIMALS_DAI), \n",
    "         rate_multiplier(DECIMALS_USDC), \n",
    "         rate_multiplier(DECIMALS_USDT)]\n",
    "\n",
    "test_pool = StableswapPoolMath(A = 2000, \n",
    "                           D = decimal_amts, \n",
    "                           n = len(rates),\n",
    "                           rates = rates, \n",
    "                           fee = 1000000)\n",
    "\n",
    "format_balances(test_pool.balances, DECIMALS)"
   ]
  },
  {
   "cell_type": "markdown",
   "id": "f7526c55-0779-483e-a382-43348c33be42",
   "metadata": {},
   "source": [
    "#### USDC / DAI (Price)"
   ]
  },
  {
   "cell_type": "code",
   "execution_count": 6,
   "id": "3cb92c27-5806-4dd6-ab53-8ec7a181c0ff",
   "metadata": {},
   "outputs": [
    {
     "data": {
      "text/plain": [
       "0.9999896456022903"
      ]
     },
     "execution_count": 6,
     "metadata": {},
     "output_type": "execute_result"
    }
   ],
   "source": [
    "test_pool.dydx(1, 0, use_fee=False)"
   ]
  },
  {
   "cell_type": "code",
   "execution_count": 7,
   "id": "81dab264-ef96-4e80-b766-05f542fadc04",
   "metadata": {},
   "outputs": [
    {
     "data": {
      "text/plain": [
       "1.0000103545049244"
      ]
     },
     "execution_count": 7,
     "metadata": {},
     "output_type": "execute_result"
    }
   ],
   "source": [
    "test_pool.dydx(0, 1, use_fee=False)"
   ]
  },
  {
   "cell_type": "markdown",
   "id": "31c6021d-2edb-4799-a4c0-fdb7201e822b",
   "metadata": {},
   "source": [
    "#### USDC / USDT (Price)"
   ]
  },
  {
   "cell_type": "code",
   "execution_count": 8,
   "id": "fe0b4fcc-1310-45ee-8e54-2f81e413b7a8",
   "metadata": {},
   "outputs": [
    {
     "data": {
      "text/plain": [
       "0.9997863487559973"
      ]
     },
     "execution_count": 8,
     "metadata": {},
     "output_type": "execute_result"
    }
   ],
   "source": [
    "test_pool.dydx(1, 2, use_fee=False)"
   ]
  },
  {
   "cell_type": "code",
   "execution_count": 9,
   "id": "78c8a43c-f2ae-4e16-a860-5ae36e01573e",
   "metadata": {},
   "outputs": [
    {
     "data": {
      "text/plain": [
       "1.0002136969006115"
      ]
     },
     "execution_count": 9,
     "metadata": {},
     "output_type": "execute_result"
    }
   ],
   "source": [
    "test_pool.dydx(2, 1, use_fee=False)"
   ]
  },
  {
   "cell_type": "markdown",
   "id": "9e1ca0d1-746f-48cd-9f87-c32e885241cb",
   "metadata": {},
   "source": [
    "#### DAI / USDT (Price)"
   ]
  },
  {
   "cell_type": "code",
   "execution_count": 10,
   "id": "fe2644a4-b0a0-4611-a16d-d4ab9d6eb2fe",
   "metadata": {},
   "outputs": [
    {
     "data": {
      "text/plain": [
       "0.9997967010486687"
      ]
     },
     "execution_count": 10,
     "metadata": {},
     "output_type": "execute_result"
    }
   ],
   "source": [
    "test_pool.dydx(0, 2, use_fee=False)"
   ]
  },
  {
   "cell_type": "code",
   "execution_count": 11,
   "id": "0e41a25a-208e-4c48-b809-5c68dbe2684d",
   "metadata": {},
   "outputs": [
    {
     "data": {
      "text/plain": [
       "1.000203340290199"
      ]
     },
     "execution_count": 11,
     "metadata": {},
     "output_type": "execute_result"
    }
   ],
   "source": [
    "test_pool.dydx(2, 0, use_fee=False)"
   ]
  },
  {
   "cell_type": "markdown",
   "id": "c9cdc98c-af6d-429b-b66f-0e251c419a3c",
   "metadata": {},
   "source": [
    "#### Swap USDC for Tether"
   ]
  },
  {
   "cell_type": "code",
   "execution_count": 12,
   "id": "661225e1-671f-483b-b73e-f455ac926847",
   "metadata": {},
   "outputs": [
    {
     "data": {
      "text/plain": [
       "(9996.862748, 0.999786)"
      ]
     },
     "execution_count": 12,
     "metadata": {},
     "output_type": "execute_result"
    }
   ],
   "source": [
    "i = 1  # USDC (coming in)\n",
    "j = 2  # Tether (going out)\n",
    "dx = 10**4 * 10**DECIMALS_USDC\n",
    "\n",
    "dy, fee = test_pool.exchange(i, j, dx)\n",
    "dy/10**DECIMALS_USDT, fee/10**DECIMALS_USDT"
   ]
  },
  {
   "cell_type": "code",
   "execution_count": 13,
   "id": "bb6a0fd5-2b8e-4701-8f59-d71d9acf1bac",
   "metadata": {},
   "outputs": [
    {
     "name": "stdout",
     "output_type": "stream",
     "text": [
      "['79,566,307', '81,355,068', '55,653,253']\n"
     ]
    }
   ],
   "source": [
    "print(format_balances(test_pool.balances, DECIMALS))"
   ]
  },
  {
   "cell_type": "markdown",
   "id": "3d227e10-9a4e-445c-9a7a-96cf28598132",
   "metadata": {},
   "source": [
    "#### Swap DAI for Tether"
   ]
  },
  {
   "cell_type": "code",
   "execution_count": 14,
   "id": "16477fa1-8d2d-4357-bec1-8e9373f85c07",
   "metadata": {},
   "outputs": [
    {
     "data": {
      "text/plain": [
       "(9996.964923, 0.999796)"
      ]
     },
     "execution_count": 14,
     "metadata": {},
     "output_type": "execute_result"
    }
   ],
   "source": [
    "i = 0  # DAI\n",
    "j = 2  # Tether\n",
    "dx = 10**4 * 10**DECIMALS_DAI\n",
    "\n",
    "dy, fee = test_pool.exchange(i, j, dx)\n",
    "dy/10**DECIMALS_USDT, fee/10**DECIMALS_USDT"
   ]
  },
  {
   "cell_type": "code",
   "execution_count": 15,
   "id": "8fb363a2-af1d-403a-b4ae-980784b8a989",
   "metadata": {},
   "outputs": [
    {
     "name": "stdout",
     "output_type": "stream",
     "text": [
      "['79,576,307', '81,355,068', '55,643,256']\n"
     ]
    }
   ],
   "source": [
    "print(format_balances(test_pool.balances, DECIMALS))"
   ]
  },
  {
   "cell_type": "markdown",
   "id": "7ec1eae5-4fd4-48ec-9915-2d8595928b6a",
   "metadata": {},
   "source": [
    "#### Swap USDC for DAI"
   ]
  },
  {
   "cell_type": "code",
   "execution_count": 16,
   "id": "3d4b06f9-2421-4535-8cbe-9d54d2db65c7",
   "metadata": {},
   "outputs": [
    {
     "data": {
      "text/plain": [
       "(9998.895898397388, 0.9999895887986187)"
      ]
     },
     "execution_count": 16,
     "metadata": {},
     "output_type": "execute_result"
    }
   ],
   "source": [
    "i = 1  # USDC\n",
    "j = 0  # DAI\n",
    "dx = 10**4 * 10**DECIMALS_USDC\n",
    "\n",
    "dy, fee = test_pool.exchange(i, j, dx)\n",
    "dy/10**DECIMALS_DAI, fee/10**DECIMALS_DAI"
   ]
  },
  {
   "cell_type": "code",
   "execution_count": 17,
   "id": "38fac2c7-c0d5-4016-8042-c17426c8a845",
   "metadata": {},
   "outputs": [
    {
     "name": "stdout",
     "output_type": "stream",
     "text": [
      "['79,566,308', '81,365,068', '55,643,256']\n"
     ]
    }
   ],
   "source": [
    "print(format_balances(test_pool.balances, DECIMALS))"
   ]
  },
  {
   "cell_type": "markdown",
   "id": "801d64ff-f813-47ef-94b1-0d2dec94226a",
   "metadata": {},
   "source": [
    "#### Add DAI"
   ]
  },
  {
   "cell_type": "code",
   "execution_count": 18,
   "id": "6f43dfa1-9be3-4450-87c9-ed8990dbd175",
   "metadata": {},
   "outputs": [
    {
     "data": {
      "text/plain": [
       "['79,666,308', '81,365,068', '55,643,256']"
      ]
     },
     "execution_count": 18,
     "metadata": {},
     "output_type": "execute_result"
    }
   ],
   "source": [
    "amt_dai = 100000\n",
    "amt_tkns = [tkn2dec(amt_dai, DECIMALS_DAI), 0, 0]\n",
    "test_pool.add_liquidity(amt_tkns)\n",
    "\n",
    "format_balances(test_pool.balances, DECIMALS)"
   ]
  },
  {
   "cell_type": "markdown",
   "id": "2503e1de-493d-41d5-9898-01b9802bee27",
   "metadata": {},
   "source": [
    "#### Add USDC"
   ]
  },
  {
   "cell_type": "code",
   "execution_count": 19,
   "id": "2531f0c9-39d8-406f-b605-1768da472a90",
   "metadata": {},
   "outputs": [
    {
     "data": {
      "text/plain": [
       "249971400696586377656324"
      ]
     },
     "execution_count": 19,
     "metadata": {},
     "output_type": "execute_result"
    }
   ],
   "source": [
    "amt_usdc = 250000\n",
    "amt_tkns = [0, tkn2dec(amt_usdc, DECIMALS_USDC), 0]\n",
    "test_pool.add_liquidity(amt_tkns)\n",
    "\n",
    "format_balances(test_pool.balances, DECIMALS)\n",
    "\n",
    "test_pool.add_liquidity(amt_tkns)"
   ]
  },
  {
   "cell_type": "markdown",
   "id": "3b65afe2-326e-43d2-9a4b-fb0486f707dd",
   "metadata": {},
   "source": [
    "#### Remove DAI"
   ]
  },
  {
   "cell_type": "code",
   "execution_count": 20,
   "id": "4e761e94-9b93-4fdf-b7d7-c7c7b09f2239",
   "metadata": {},
   "outputs": [
    {
     "data": {
      "text/plain": [
       "217172960.61976177"
      ]
     },
     "execution_count": 20,
     "metadata": {},
     "output_type": "execute_result"
    }
   ],
   "source": [
    "test_pool.tokens/10**DECIMALS_GWEI"
   ]
  },
  {
   "cell_type": "code",
   "execution_count": 21,
   "id": "5293517d-4070-4f68-9f59-a96ccdd75bbf",
   "metadata": {},
   "outputs": [
    {
     "data": {
      "text/plain": [
       "250013.72583753208"
      ]
     },
     "execution_count": 21,
     "metadata": {},
     "output_type": "execute_result"
    }
   ],
   "source": [
    "amt_lp = 250000\n",
    "amt_lp_dec = tkn2dec(amt_lp, DECIMALS_GWEI) \n",
    "dy = test_pool.calc_withdraw_one_coin(amt_lp_dec, 0, False)\n",
    "dy/10**DECIMALS_DAI"
   ]
  },
  {
   "cell_type": "code",
   "execution_count": 22,
   "id": "e26638e5-9329-4038-bfaa-e985cc248569",
   "metadata": {},
   "outputs": [
    {
     "data": {
      "text/plain": [
       "['79,416,294', '81,865,068', '55,643,256']"
      ]
     },
     "execution_count": 22,
     "metadata": {},
     "output_type": "execute_result"
    }
   ],
   "source": [
    "test_pool.remove_liquidity_one_coin(amt_lp_dec, 0)\n",
    "format_balances(test_pool.balances, DECIMALS)"
   ]
  },
  {
   "cell_type": "code",
   "execution_count": 23,
   "id": "e7c0fa33-3b93-40fb-accb-9942481b3ed1",
   "metadata": {},
   "outputs": [
    {
     "data": {
      "text/plain": [
       "217172960.61976177"
      ]
     },
     "execution_count": 23,
     "metadata": {},
     "output_type": "execute_result"
    }
   ],
   "source": [
    "test_pool.tokens/10**DECIMALS_GWEI+amt_lp"
   ]
  },
  {
   "cell_type": "markdown",
   "id": "61cc24fd-5868-40f9-ad63-81e5bc952256",
   "metadata": {},
   "source": [
    "#### Remove USDT"
   ]
  },
  {
   "cell_type": "code",
   "execution_count": 24,
   "id": "9e83bae4-a09f-4736-82ea-1124982b9b40",
   "metadata": {},
   "outputs": [
    {
     "data": {
      "text/plain": [
       "216922960.61976177"
      ]
     },
     "execution_count": 24,
     "metadata": {},
     "output_type": "execute_result"
    }
   ],
   "source": [
    "test_pool.tokens/10**DECIMALS_GWEI"
   ]
  },
  {
   "cell_type": "code",
   "execution_count": 25,
   "id": "9ac0e0af-5c16-4298-ba7f-2055fc634af5",
   "metadata": {},
   "outputs": [
    {
     "data": {
      "text/plain": [
       "249962.533927"
      ]
     },
     "execution_count": 25,
     "metadata": {},
     "output_type": "execute_result"
    }
   ],
   "source": [
    "amt_lp = 250000\n",
    "amt_lp_dec = tkn2dec(amt_lp, DECIMALS_GWEI) \n",
    "dy = test_pool.calc_withdraw_one_coin(amt_lp_dec, 2, False)\n",
    "dy/10**DECIMALS_USDT"
   ]
  },
  {
   "cell_type": "code",
   "execution_count": 26,
   "id": "522a7754-f133-4103-9730-fc4aed08615c",
   "metadata": {},
   "outputs": [
    {
     "data": {
      "text/plain": [
       "['79,416,294', '81,865,068', '55,393,294']"
      ]
     },
     "execution_count": 26,
     "metadata": {},
     "output_type": "execute_result"
    }
   ],
   "source": [
    "test_pool.remove_liquidity_one_coin(amt_lp_dec, 2)\n",
    "format_balances(test_pool.balances, DECIMALS)"
   ]
  },
  {
   "cell_type": "code",
   "execution_count": 27,
   "id": "31ab8cc9-45aa-417d-a343-34811a292e66",
   "metadata": {},
   "outputs": [
    {
     "data": {
      "text/plain": [
       "216922960.61976177"
      ]
     },
     "execution_count": 27,
     "metadata": {},
     "output_type": "execute_result"
    }
   ],
   "source": [
    "test_pool.tokens/10**DECIMALS_GWEI+amt_lp"
   ]
  },
  {
   "cell_type": "markdown",
   "id": "151daa2a-91d3-42c0-a9c5-646c10fdce7d",
   "metadata": {},
   "source": [
    "#### Remove USDC"
   ]
  },
  {
   "cell_type": "code",
   "execution_count": 28,
   "id": "0b85f064-a7ab-4652-beac-5b5d03116814",
   "metadata": {},
   "outputs": [
    {
     "data": {
      "text/plain": [
       "216672960.61976177"
      ]
     },
     "execution_count": 28,
     "metadata": {},
     "output_type": "execute_result"
    }
   ],
   "source": [
    "test_pool.tokens/10**DECIMALS_GWEI"
   ]
  },
  {
   "cell_type": "code",
   "execution_count": 29,
   "id": "0ef28eef-4f82-40af-a6a1-e46bbe8dc072",
   "metadata": {},
   "outputs": [
    {
     "data": {
      "text/plain": [
       "250005.56071"
      ]
     },
     "execution_count": 29,
     "metadata": {},
     "output_type": "execute_result"
    }
   ],
   "source": [
    "amt_lp = 250000\n",
    "amt_lp_dec = tkn2dec(amt_lp, DECIMALS_GWEI) \n",
    "dy, fee = test_pool.calc_withdraw_one_coin(amt_lp_dec, 1, True)\n",
    "dy/10**DECIMALS_USDC"
   ]
  },
  {
   "cell_type": "code",
   "execution_count": 30,
   "id": "d50979e5-7d2b-40c5-8422-2c70cd6ffe55",
   "metadata": {},
   "outputs": [
    {
     "data": {
      "text/plain": [
       "['79,416,294', '81,615,050', '55,393,294']"
      ]
     },
     "execution_count": 30,
     "metadata": {},
     "output_type": "execute_result"
    }
   ],
   "source": [
    "test_pool.remove_liquidity_one_coin(amt_lp_dec, 1)\n",
    "format_balances(test_pool.balances, DECIMALS)"
   ]
  }
 ],
 "metadata": {
  "kernelspec": {
   "display_name": "Python 3 (ipykernel)",
   "language": "python",
   "name": "python3"
  },
  "language_info": {
   "codemirror_mode": {
    "name": "ipython",
    "version": 3
   },
   "file_extension": ".py",
   "mimetype": "text/x-python",
   "name": "python",
   "nbconvert_exporter": "python",
   "pygments_lexer": "ipython3",
   "version": "3.9.7"
  }
 },
 "nbformat": 4,
 "nbformat_minor": 5
}
