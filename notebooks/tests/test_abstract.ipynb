{
 "cells": [
  {
   "cell_type": "markdown",
   "id": "d82ba920-ae26-4d41-93ca-9dcaa1b9a1dd",
   "metadata": {},
   "source": [
    "# Abstract Interface\n",
    "\n",
    "**Join()**: joins X and Y amounts to pool <br>\n",
    "**Swap()**: swaps X for Y (and vice verse)<br>\n",
    "**AddLiquidity()**: adds liquidity using token amounts <br>\n",
    "**RemoveLiquidity()**: removes liquidity using token amounts <br>"
   ]
  },
  {
   "cell_type": "code",
   "execution_count": 1,
   "id": "c8c48011-1252-4402-a99e-75b5bd68a2e1",
   "metadata": {},
   "outputs": [],
   "source": [
    "import json\n",
    "import numpy as np\n",
    "from decimal import Decimal\n",
    "from stableswappy import *"
   ]
  },
  {
   "cell_type": "code",
   "execution_count": 2,
   "id": "895e743d-44f9-4881-90bb-bd4d6de43d45",
   "metadata": {},
   "outputs": [],
   "source": [
    "user_nm = 'user_test'\n",
    "\n",
    "AMPL_COEFF = 2000 \n",
    "\n",
    "amt_dai = 79566307.559825807715868071\n",
    "decimal_dai = 18\n",
    "\n",
    "amt_usdc = 81345068.187939\n",
    "decimal_usdc = 6\n",
    "\n",
    "amt_usdt = 55663250.772939\n",
    "decimal_usdt = 6"
   ]
  },
  {
   "cell_type": "code",
   "execution_count": 3,
   "id": "ff3ee350-8d4a-4b01-a427-a2eda36c0c55",
   "metadata": {},
   "outputs": [],
   "source": [
    "dai = ERC20(\"DAI\", \"0xA0b\", decimal_dai)\n",
    "dai.deposit(None, amt_dai)\n",
    "\n",
    "usdc = ERC20(\"USDC\", \"0xf93\", decimal_usdc)\n",
    "usdc.deposit(None, amt_usdc)\n",
    "\n",
    "usdt = ERC20(\"USDT\", \"0xd7c\", decimal_usdt)\n",
    "usdt.deposit(None, amt_usdt)"
   ]
  },
  {
   "cell_type": "code",
   "execution_count": 4,
   "id": "76b9d544-0b4f-448c-8e56-776729a19bd7",
   "metadata": {},
   "outputs": [],
   "source": [
    "sgrp = StableswapVault()\n",
    "sgrp.add_token(dai)\n",
    "sgrp.add_token(usdc)\n",
    "sgrp.add_token(usdt)"
   ]
  },
  {
   "cell_type": "markdown",
   "id": "0c99682c-42cd-4982-b2ef-38162eac29e5",
   "metadata": {},
   "source": [
    "### Join()"
   ]
  },
  {
   "cell_type": "code",
   "execution_count": 5,
   "id": "b24ef00b-e2e5-4184-ba86-efc85e946d16",
   "metadata": {},
   "outputs": [
    {
     "name": "stdout",
     "output_type": "stream",
     "text": [
      "Stableswap Exchange: DAI-USDC-USDT (LP)\n",
      "Reserves: DAI = 79566307.55982581, USDC = 81345068.187939, USDT = 55663250.772939\n",
      "Liquidity: 216573027.91811988 \n",
      "\n"
     ]
    }
   ],
   "source": [
    "sfactory = StableswapFactory(\"Pool factory\", \"0x2\")\n",
    "exchg_data = StableswapExchangeData(vault = sgrp, symbol=\"LP\", address=\"0x011\")\n",
    "lp = sfactory.deploy(exchg_data)\n",
    "\n",
    "Join().apply(lp, user_nm, AMPL_COEFF)\n",
    "lp.summary()"
   ]
  },
  {
   "cell_type": "markdown",
   "id": "850d0177-234c-402a-ad30-b679c5eeebb3",
   "metadata": {},
   "source": [
    "### Swap()"
   ]
  },
  {
   "cell_type": "code",
   "execution_count": 6,
   "id": "1871a10f-4ba5-43e3-aa7d-93b4e7f85f03",
   "metadata": {},
   "outputs": [
    {
     "name": "stdout",
     "output_type": "stream",
     "text": [
      "Stableswap Exchange: DAI-USDC-USDT (LP)\n",
      "Reserves: DAI = 79566307.55982581, USDC = 81355068.187939, USDT = 55653253.910191\n",
      "Liquidity: 216573027.91811988 \n",
      "\n",
      "10000 USDC was swapped for 9996.862748 USDT\n"
     ]
    }
   ],
   "source": [
    "usdc_before = lp.get_reserve(usdc)\n",
    "usdt_before = lp.get_reserve(usdt)\n",
    "\n",
    "amt_tkn_in = 10000\n",
    "tkn_in = usdc\n",
    "tkn_out = usdt\n",
    "res = Swap().apply(lp, tkn_in, tkn_out, user_nm, amt_tkn_in)\n",
    "lp.summary()\n",
    "\n",
    "print(f\"{amt_tkn_in} {tkn_in.token_name} was swapped for {res['tkn_out_amt']} {tkn_out.token_name}\")"
   ]
  },
  {
   "cell_type": "code",
   "execution_count": 7,
   "id": "1541f73e-7f2a-4513-900a-43a0a0fb187c",
   "metadata": {},
   "outputs": [
    {
     "name": "stdout",
     "output_type": "stream",
     "text": [
      "Stableswap Exchange: DAI-USDC-USDT (LP)\n",
      "Reserves: DAI = 79556308.6645169, USDC = 81365068.187939, USDT = 55653253.910191\n",
      "Liquidity: 216573027.91811988 \n",
      "\n",
      "10000 USDC was swapped for 9998.895308918858 DAI\n"
     ]
    }
   ],
   "source": [
    "usdc_before = lp.get_reserve(usdc)\n",
    "dai_before = lp.get_reserve(dai)\n",
    "\n",
    "amt_tkn_in = 10000\n",
    "tkn_in = usdc\n",
    "tkn_out = dai\n",
    "res = Swap().apply(lp, tkn_in, tkn_out, user_nm, amt_tkn_in)\n",
    "lp.summary()\n",
    "\n",
    "print(f\"{amt_tkn_in} {tkn_in.token_name} was swapped for {res['tkn_out_amt']} {tkn_out.token_name}\")"
   ]
  },
  {
   "cell_type": "markdown",
   "id": "4fb12172-fab2-4477-b662-f6d258eb5a94",
   "metadata": {},
   "source": [
    "### AddLiquidity()"
   ]
  },
  {
   "cell_type": "code",
   "execution_count": 8,
   "id": "a42b840a-01e8-4678-972b-f7e576008b0d",
   "metadata": {},
   "outputs": [
    {
     "name": "stdout",
     "output_type": "stream",
     "text": [
      "Stableswap Exchange: DAI-USDC-USDT (LP)\n",
      "Reserves: DAI = 79556308.6645169, USDC = 81365068.187939, USDT = 55663253.910191\n",
      "Liquidity: 216583028.83723688 \n",
      "\n",
      "10000 USDT was deposited for 10000.919116999057 LP tokens\n"
     ]
    }
   ],
   "source": [
    "usdt_before = lp.get_reserve(usdt)\n",
    "\n",
    "amt_tkn_in = 10000\n",
    "tkn_in = usdt\n",
    "res = AddLiquidity().apply(lp, tkn_in, user_nm, amt_tkn_in)\n",
    "lp.summary()\n",
    "\n",
    "print(f\"{amt_tkn_in} {tkn_in.token_name} was deposited for {res['liquidity_amt_in']} LP tokens\")"
   ]
  },
  {
   "cell_type": "markdown",
   "id": "a9d916b8-70cc-43a4-aaf3-1986e3af76e2",
   "metadata": {},
   "source": [
    "### AddLiquidity()"
   ]
  },
  {
   "cell_type": "code",
   "execution_count": 9,
   "id": "91202ae1-9777-4e9f-97e2-7ac9b7fba641",
   "metadata": {},
   "outputs": [
    {
     "name": "stdout",
     "output_type": "stream",
     "text": [
      "Stableswap Exchange: DAI-USDC-USDT (LP)\n",
      "Reserves: DAI = 79566308.6645169, USDC = 81365068.187939, USDT = 55663253.910191\n",
      "Liquidity: 216593027.8056816 \n",
      "\n",
      "10000 DAI was deposited for 9998.968444705135 LP tokens\n"
     ]
    }
   ],
   "source": [
    "usdt_before = lp.get_reserve(usdt)\n",
    "amt_tkn_in = 10000\n",
    "tkn_in = dai\n",
    "\n",
    "res = AddLiquidity().apply(lp, tkn_in, user_nm, amt_tkn_in)\n",
    "lp.summary()\n",
    "\n",
    "print(f\"{amt_tkn_in} {tkn_in.token_name} was deposited for {res['liquidity_amt_in']} LP tokens\")"
   ]
  },
  {
   "cell_type": "markdown",
   "id": "6a0c83c2-cb28-4c3d-a4e8-e17b6591713d",
   "metadata": {},
   "source": [
    "### RemoveLiquidity()"
   ]
  },
  {
   "cell_type": "code",
   "execution_count": 10,
   "id": "b20e5928-85c3-483c-a976-67542d00fbfa",
   "metadata": {},
   "outputs": [
    {
     "name": "stdout",
     "output_type": "stream",
     "text": [
      "Stableswap Exchange: DAI-USDC-USDT (LP)\n",
      "Reserves: DAI = 79316306.72151607, USDC = 81365068.187939, USDT = 55663253.910191\n",
      "Liquidity: 216343027.8056816 \n",
      "\n",
      "250000 LP tokens as removed for 250001.94300082736 DAI\n"
     ]
    }
   ],
   "source": [
    "amt_lp_out = 250000\n",
    "tkn_out = dai\n",
    "dai_before = lp.get_reserve(dai)\n",
    "lp_amt_before = lp.total_supply\n",
    "\n",
    "res = RemoveLiquidity().apply(lp, tkn_out, user_nm, amt_lp_out)\n",
    "lp.summary()\n",
    "\n",
    "print(f\"{amt_lp_out} LP tokens as removed for {res['tkn_out_amt']} {tkn_out.token_name}\")"
   ]
  },
  {
   "cell_type": "markdown",
   "id": "170e3f05-1df2-42f1-8ec8-6c80e4e0fa9e",
   "metadata": {},
   "source": [
    "### RemoveLiquidity()"
   ]
  },
  {
   "cell_type": "code",
   "execution_count": 11,
   "id": "0419b78c-c668-4fc9-a3e9-7c0b924342dd",
   "metadata": {},
   "outputs": [
    {
     "name": "stdout",
     "output_type": "stream",
     "text": [
      "Stableswap Exchange: DAI-USDC-USDT (LP)\n",
      "Reserves: DAI = 79316306.72151607, USDC = 81365068.187939, USDT = 55163356.268067\n",
      "Liquidity: 215843027.8056816 \n",
      "\n",
      "500000 LP tokens as removed for 499897.642124 USDT\n"
     ]
    }
   ],
   "source": [
    "amt_lp_out = 500000\n",
    "tkn_out = usdt\n",
    "usdt_before = lp.get_reserve(usdt)\n",
    "lp_amt_before = lp.total_supply\n",
    "\n",
    "res = RemoveLiquidity().apply(lp, tkn_out, user_nm, amt_lp_out)\n",
    "lp.summary()\n",
    "\n",
    "print(f\"{amt_lp_out} LP tokens as removed for {res['tkn_out_amt']} {tkn_out.token_name}\")"
   ]
  }
 ],
 "metadata": {
  "kernelspec": {
   "display_name": "Python 3 (ipykernel)",
   "language": "python",
   "name": "python3"
  },
  "language_info": {
   "codemirror_mode": {
    "name": "ipython",
    "version": 3
   },
   "file_extension": ".py",
   "mimetype": "text/x-python",
   "name": "python",
   "nbconvert_exporter": "python",
   "pygments_lexer": "ipython3",
   "version": "3.10.0rc2"
  }
 },
 "nbformat": 4,
 "nbformat_minor": 5
}
