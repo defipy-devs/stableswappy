{
 "cells": [
  {
   "cell_type": "markdown",
   "id": "af029306-ee67-42d2-a243-08a44ff9f157",
   "metadata": {},
   "source": [
    "## Basic Composable Stable Testing"
   ]
  },
  {
   "cell_type": "code",
   "execution_count": 1,
   "id": "3417b4ab-752a-4754-a370-6aa09e6b0a67",
   "metadata": {},
   "outputs": [],
   "source": [
    "from stableswappy.cst.factory import StableswapFactory\n",
    "from stableswappy.cst.exchg import StableswapPoolMath\n",
    "from stableswappy.group import StableswapERC20Group\n",
    "from stableswappy.erc import StableswapERC20"
   ]
  },
  {
   "cell_type": "markdown",
   "id": "fbe1946f-c5c0-4c8a-ba6f-9fed43b847f2",
   "metadata": {},
   "source": [
    "### Parameters"
   ]
  },
  {
   "cell_type": "code",
   "execution_count": 2,
   "id": "7585d97f-5064-4cb7-a4f8-56138e6fcd17",
   "metadata": {},
   "outputs": [],
   "source": [
    "USER = 'user_test'\n",
    "\n",
    "AMPL_COEFF = 2000 \n",
    "\n",
    "amt_dai = 79566307.559825807715868071\n",
    "decimal_dai = 18\n",
    "\n",
    "amt_usdc = 81345068.187939\n",
    "decimal_usdc = 6\n",
    "\n",
    "amt_usdt = 55663250.772939\n",
    "decimal_usdt = 6"
   ]
  },
  {
   "cell_type": "markdown",
   "id": "74688e49-361d-4575-b172-c3937a2942ed",
   "metadata": {},
   "source": [
    "### Tokens"
   ]
  },
  {
   "cell_type": "code",
   "execution_count": 3,
   "id": "6298d054-d1ce-4edb-a7a0-3a12f7d1d29d",
   "metadata": {},
   "outputs": [],
   "source": [
    "dai = StableswapERC20(\"DAI\", \"0xA0b\")\n",
    "dai.set_params(amt_dai, decimal_dai)\n",
    "\n",
    "usdc = StableswapERC20(\"USDC\", \"0xf93\")\n",
    "usdc.set_params(amt_usdc, decimal_usdc)\n",
    "\n",
    "usdt = StableswapERC20(\"USDT\", \"0xd7c\")\n",
    "usdt.set_params(amt_usdt, decimal_usdt)\n",
    "\n",
    "sgrp = StableswapERC20Group()\n",
    "sgrp.add_token(dai)\n",
    "sgrp.add_token(usdc)\n",
    "sgrp.add_token(usdt)"
   ]
  },
  {
   "cell_type": "markdown",
   "id": "380d2bc3-cb00-4105-b3c9-ead1e5dd39bf",
   "metadata": {},
   "source": [
    "### Join stableswap pool\n",
    "* Join all assets"
   ]
  },
  {
   "cell_type": "code",
   "execution_count": 4,
   "id": "15cb5271-a408-4637-ac8b-793b37840061",
   "metadata": {},
   "outputs": [
    {
     "name": "stdout",
     "output_type": "stream",
     "text": [
      "Stableswap Exchange: DAI-USDC-USDT (LP)\n",
      "Coins: DAI/USDC/USDT\n",
      "Reserves: DAI = 79566307.56 | USDC = 81345068.19 | USDT = 55663250.77\n",
      "Liquidity: 216573027.91811988 \n",
      "\n"
     ]
    }
   ],
   "source": [
    "sfactory = StableswapFactory(\"Pool factory\", \"0x2\")\n",
    "lp = sfactory.create_exchange(sgrp, symbol=\"LP\", address=\"0x011\")\n",
    "lp.join_pool(sgrp, AMPL_COEFF, USER)\n",
    "lp.info()"
   ]
  },
  {
   "cell_type": "markdown",
   "id": "afc2e14c-8b45-480c-9e6d-ef80ce5064ba",
   "metadata": {},
   "source": [
    "### Swap: USDC -> USDT"
   ]
  },
  {
   "cell_type": "code",
   "execution_count": 5,
   "id": "faaade9b-d02d-4bb7-a081-60a298160af9",
   "metadata": {},
   "outputs": [
    {
     "name": "stdout",
     "output_type": "stream",
     "text": [
      "10000 USDC was swapped for 9996.862748 USDT\n"
     ]
    }
   ],
   "source": [
    "usdc_before = lp.get_reserve(usdc)\n",
    "usdt_before = lp.get_reserve(usdt)\n",
    "\n",
    "amt_tkn_in = 10000\n",
    "tkn_in = usdc\n",
    "tkn_out = usdt\n",
    "res = lp.swap(amt_tkn_in, tkn_in, tkn_out, USER)\n",
    "\n",
    "print(f\"{amt_tkn_in} {tkn_in.token_name} was swapped for {res['tkn_out_amt']} {tkn_out.token_name}\")"
   ]
  },
  {
   "cell_type": "code",
   "execution_count": 6,
   "id": "6b0a0795-e4ed-464b-ad0f-4bbc17626ca1",
   "metadata": {},
   "outputs": [
    {
     "name": "stdout",
     "output_type": "stream",
     "text": [
      "Stableswap Exchange: DAI-USDC-USDT (LP)\n",
      "Coins: DAI/USDC/USDT\n",
      "Reserves: DAI = 79566307.56 | USDC = 81355068.19 | USDT = 55653253.91\n",
      "Liquidity: 216573027.91811988 \n",
      "\n",
      "Liquidity Leak (USDC): PASS\n",
      "Liquidity Leak (USDT): PASS\n"
     ]
    }
   ],
   "source": [
    "lp.info()\n",
    "\n",
    "## Check for leaks\n",
    "usdc_check = lp.get_reserve(usdc)-amt_tkn_in\n",
    "usdt_check = lp.get_reserve(usdt)+res['tkn_out_amt']\n",
    "\n",
    "usdc_test = 'PASS' if {usdc_before == usdc_check} else 'FAIL'\n",
    "usdt_test = 'PASS' if {usdt_before == usdt_check} else 'FAIL'\n",
    "print(f'Liquidity Leak (USDC): {usdc_test}')\n",
    "print(f'Liquidity Leak (USDT): {usdt_test}')"
   ]
  },
  {
   "cell_type": "markdown",
   "id": "c229cd4a-4809-4b0c-9589-937d462c1566",
   "metadata": {},
   "source": [
    "### Swap: USDC -> DAI"
   ]
  },
  {
   "cell_type": "code",
   "execution_count": 7,
   "id": "7eebb2aa-e3d3-49c0-821f-6c8d5ef19f79",
   "metadata": {},
   "outputs": [
    {
     "name": "stdout",
     "output_type": "stream",
     "text": [
      "10000 USDC was swapped for 9998.895308918858 DAI\n"
     ]
    }
   ],
   "source": [
    "usdc_before = lp.get_reserve(usdc)\n",
    "dai_before = lp.get_reserve(dai)\n",
    "\n",
    "amt_tkn_in = 10000\n",
    "tkn_in = usdc\n",
    "tkn_out = dai\n",
    "res = lp.swap(amt_tkn_in, tkn_in, tkn_out, USER)\n",
    "\n",
    "print(f\"{amt_tkn_in} {tkn_in.token_name} was swapped for {res['tkn_out_amt']} {tkn_out.token_name}\")"
   ]
  },
  {
   "cell_type": "code",
   "execution_count": 8,
   "id": "30c5d1f3-8389-47b5-ac69-b50b4eed1cbd",
   "metadata": {},
   "outputs": [
    {
     "name": "stdout",
     "output_type": "stream",
     "text": [
      "Stableswap Exchange: DAI-USDC-USDT (LP)\n",
      "Coins: DAI/USDC/USDT\n",
      "Reserves: DAI = 79556308.66 | USDC = 81365068.19 | USDT = 55653253.91\n",
      "Liquidity: 216573027.91811988 \n",
      "\n",
      "Liquidity Leak (USDC): PASS\n",
      "Liquidity Leak (DAI): PASS\n"
     ]
    }
   ],
   "source": [
    "lp.info()\n",
    "\n",
    "## Check for leaks\n",
    "usdc_check = lp.get_reserve(usdc)-amt_tkn_in\n",
    "dai_check = lp.get_reserve(dai)+res['tkn_out_amt']\n",
    "\n",
    "usdc_test = 'PASS' if {usdc_before == usdc_check} else 'FAIL'\n",
    "dai_test = 'PASS' if {dai_before == dai_check} else 'FAIL'\n",
    "print(f'Liquidity Leak (USDC): {usdc_test}')\n",
    "print(f'Liquidity Leak (DAI): {dai_test}')"
   ]
  },
  {
   "cell_type": "code",
   "execution_count": 9,
   "id": "4ca264e2-f78e-4bf7-8b31-42972ba251b4",
   "metadata": {},
   "outputs": [
    {
     "data": {
      "text/plain": [
       "{'user_test': 216573027.91811988}"
      ]
     },
     "execution_count": 9,
     "metadata": {},
     "output_type": "execute_result"
    }
   ],
   "source": [
    "lp.providers"
   ]
  },
  {
   "cell_type": "code",
   "execution_count": 10,
   "id": "44c36f62-c231-4c74-9afa-51d97d6769c4",
   "metadata": {},
   "outputs": [
    {
     "data": {
      "text/plain": [
       "[79556308664516891142540371, 81365068187939, 55653253910191]"
      ]
     },
     "execution_count": 10,
     "metadata": {},
     "output_type": "execute_result"
    }
   ],
   "source": [
    "math_pool = lp.get_pool()\n",
    "math_pool.balances"
   ]
  },
  {
   "cell_type": "code",
   "execution_count": 11,
   "id": "b098ae12-7d18-4045-a896-fd747a18ba0d",
   "metadata": {},
   "outputs": [
    {
     "data": {
      "text/plain": [
       "{'DAI': 79556308664516900000000000,\n",
       " 'USDC': 81365068187939,\n",
       " 'USDT': 55653253910191}"
      ]
     },
     "execution_count": 11,
     "metadata": {},
     "output_type": "execute_result"
    }
   ],
   "source": [
    "sgrp.get_decimal_amts()"
   ]
  },
  {
   "cell_type": "code",
   "execution_count": 12,
   "id": "e216441e-b2a3-4fde-a5c8-4e8ce470960c",
   "metadata": {},
   "outputs": [
    {
     "data": {
      "text/plain": [
       "{'DAI': 1000000000000000000,\n",
       " 'USDC': 1000000000000000000000000000000,\n",
       " 'USDT': 1000000000000000000000000000000}"
      ]
     },
     "execution_count": 12,
     "metadata": {},
     "output_type": "execute_result"
    }
   ],
   "source": [
    "sgrp.get_rates()"
   ]
  }
 ],
 "metadata": {
  "kernelspec": {
   "display_name": "Python 3 (ipykernel)",
   "language": "python",
   "name": "python3"
  },
  "language_info": {
   "codemirror_mode": {
    "name": "ipython",
    "version": 3
   },
   "file_extension": ".py",
   "mimetype": "text/x-python",
   "name": "python",
   "nbconvert_exporter": "python",
   "pygments_lexer": "ipython3",
   "version": "3.9.7"
  }
 },
 "nbformat": 4,
 "nbformat_minor": 5
}
